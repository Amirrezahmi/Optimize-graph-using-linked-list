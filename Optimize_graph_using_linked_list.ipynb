{
  "nbformat": 4,
  "nbformat_minor": 0,
  "metadata": {
    "colab": {
      "provenance": []
    },
    "kernelspec": {
      "name": "python3",
      "display_name": "Python 3"
    },
    "language_info": {
      "name": "python"
    }
  },
  "cells": [
    {
      "cell_type": "markdown",
      "source": [
        "Graph algorithms are a set of techniques used to solve problems on graphs. A graph is a collection of vertices (nodes) connected by edges. Graph algorithms can be used to solve problems such as finding the shortest path between two nodes, finding the minimum spanning tree of a graph, or detecting cycles in a graph.\n",
        "\n",
        "One popular graph algorithm is the Kruskal's algorithm, which is used to find the minimum spanning tree (MST) of a graph. A minimum spanning tree is a tree that connects all the vertices in a graph with the minimum possible total weight. For example, if we have a graph with 5 vertices, the minimum spanning tree would be a tree with 4 edges that connects all 5 vertices with the minimum possible total weight.\n",
        "\n",
        "Kruskal's algorithm works by sorting all the edges in the graph by weight and then adding the edges to the MST one by one, starting with the edge with the lowest weight. However, when adding an edge, we must make sure that it doesn't create a cycle in the MST. If adding an edge creates a cycle, we skip that edge and move on to the next edge."
      ],
      "metadata": {
        "id": "nuALkpNcI7cv"
      }
    },
    {
      "cell_type": "markdown",
      "source": [
        "We want to implement the given graph as a greedy database using a linked list and optimize it. Let's start by implementing the graph as an adjacency list, which is a common way to represent graphs using linked lists."
      ],
      "metadata": {
        "id": "TtUBN0GnGmNy"
      }
    },
    {
      "cell_type": "markdown",
      "source": [
        "The given Graph:"
      ],
      "metadata": {
        "id": "tl5MSZhCFdby"
      }
    },
    {
      "cell_type": "code",
      "source": [
        "\n",
        "import networkx as nx\n",
        "import matplotlib.pyplot as plt\n",
        "\n",
        "# create the graph object\n",
        "G = nx.Graph()\n",
        "\n",
        "# add nodes to the graph\n",
        "G.add_nodes_from(['x1', 'x2', 'x3', 'x4', 'x5', 'x6', 'x7'])\n",
        "\n",
        "# add edges to the graph\n",
        "G.add_edge('x1', 'x2', weight=1)\n",
        "G.add_edge('x1', 'x4', weight=4)\n",
        "G.add_edge('x2', 'x4', weight=6)\n",
        "G.add_edge('x2', 'x3', weight=2)\n",
        "G.add_edge('x2', 'x5', weight=4)\n",
        "G.add_edge('x3', 'x5', weight=5)\n",
        "G.add_edge('x3', 'x6', weight=6)\n",
        "G.add_edge('x4', 'x5', weight=3)\n",
        "G.add_edge('x4', 'x7', weight=4)\n",
        "G.add_edge('x5', 'x6', weight=8)\n",
        "G.add_edge('x5', 'x7', weight=7)\n",
        "G.add_edge('x6', 'x7', weight=3)\n",
        "\n",
        "# define positions of nodes for plotting\n",
        "pos = {'x1': (0, 1), 'x2': (1, 1), 'x3': (2, 1),\n",
        "       'x4': (0, 0), 'x5': (1, 0), 'x6': (2, 0), 'x7': (1, -1)}\n",
        "\n",
        "# draw the graph with edge labels\n",
        "nx.draw_networkx(G, pos=pos, with_labels=True, node_color='lightblue', edge_color='grey')\n",
        "labels = nx.get_edge_attributes(G, 'weight')\n",
        "nx.draw_networkx_edge_labels(G, pos=pos, edge_labels=labels)\n",
        "\n",
        "# display the graph\n",
        "plt.axis('off')\n",
        "plt.show()"
      ],
      "metadata": {
        "id": "9kN_PiPoqDI7",
        "colab": {
          "base_uri": "https://localhost:8080/",
          "height": 406
        },
        "outputId": "b71d8bf8-f3e2-47d8-88b8-ee67f1c5539d"
      },
      "execution_count": 1,
      "outputs": [
        {
          "output_type": "display_data",
          "data": {
            "text/plain": [
              "<Figure size 640x480 with 1 Axes>"
            ],
            "image/png": "[encoded data removed]"
          },
          "metadata": {}
        }
      ]
    },
    {
      "cell_type": "markdown",
      "source": [
        "Implementing the Graph"
      ],
      "metadata": {
        "id": "KENm3JIxG8c1"
      }
    },
    {
      "cell_type": "markdown",
      "source": [
        "First, we create a class for the nodes and the graph:"
      ],
      "metadata": {
        "id": "uRGlNS56G-MU"
      }
    },
    {
      "cell_type": "code",
      "source": [
        "class Node:\n",
        "    def __init__(self, value):\n",
        "        self.value = value\n",
        "        self.edges = []\n",
        "\n",
        "class Graph:\n",
        "    def __init__(self):\n",
        "        self.nodes = []\n",
        "\n",
        "    def add_node(self, value):\n",
        "        node = Node(value)\n",
        "        self.nodes.append(node)\n",
        "        return node\n",
        "\n",
        "    def add_edge(self, node1, node2, weight):\n",
        "        node1.edges.append((node2, weight))\n",
        "        node2.edges.append((node1, weight))"
      ],
      "metadata": {
        "id": "QBe9UKEmHEQE"
      },
      "execution_count": 2,
      "outputs": []
    },
    {
      "cell_type": "markdown",
      "source": [
        "Next, we create the graph and add the nodes and edges according to the given diagram:"
      ],
      "metadata": {
        "id": "PyTkoxIMHKsA"
      }
    },
    {
      "cell_type": "code",
      "source": [
        "graph = Graph()\n",
        "\n",
        "# Create nodes\n",
        "x1 = graph.add_node(\"x1\")\n",
        "x2 = graph.add_node(\"x2\")\n",
        "x3 = graph.add_node(\"x3\")\n",
        "x4 = graph.add_node(\"x4\")\n",
        "x5 = graph.add_node(\"x5\")\n",
        "x6 = graph.add_node(\"x6\")\n",
        "x7 = graph.add_node(\"x7\")\n",
        "\n",
        "# Add edges\n",
        "graph.add_edge(x1, x2, 1)\n",
        "graph.add_edge(x1, x4, 4)\n",
        "graph.add_edge(x2, x3, 2)\n",
        "graph.add_edge(x2, x4, 6)\n",
        "graph.add_edge(x2, x5, 4)\n",
        "graph.add_edge(x3, x5, 5)\n",
        "graph.add_edge(x3, x6, 6)\n",
        "graph.add_edge(x4, x5, 3)\n",
        "graph.add_edge(x4, x7, 4)\n",
        "graph.add_edge(x5, x7, 7)\n",
        "graph.add_edge(x6, x5, 8)\n",
        "graph.add_edge(x6, x7, 3)"
      ],
      "metadata": {
        "id": "VMmCk_KUHVd-"
      },
      "execution_count": 3,
      "outputs": []
    },
    {
      "cell_type": "markdown",
      "source": [
        "Optimizing the Graph"
      ],
      "metadata": {
        "id": "hWLYwuCFHbfR"
      }
    },
    {
      "cell_type": "markdown",
      "source": [
        "To optimize the graph, you can remove redundant edges. One approach to finding redundant edges is to use the Minimum Spanning Tree (MST) algorithm, such as Kruskal's algorithm or Prim's algorithm, which will give you a tree that connects all nodes with the minimum possible total weight.\n",
        "\n",
        "For this example, let's use Kruskal's algorithm:\n",
        "1. Sort all the edges in ascending order of their weights.\n",
        "2. Start adding the edges to the MST from the sorted list, but only if adding the edge doesn't create a cycle.\n",
        "3. Repeat step 2 until all nodes are part of the MST."
      ],
      "metadata": {
        "id": "Q6PnBu6CHhxr"
      }
    },
    {
      "cell_type": "markdown",
      "source": [
        "To implement Kruskal's algorithm, we can use a disjoint-set data structure to keep track of which vertices are connected. We start by initializing each vertex as a separate set. Then, we sort the edges by weight and iterate through them one by one. For each edge, we check if the vertices it connects are in the same set. If they are, we skip the edge. If they are not, we add the edge to the MST and merge the two sets.\n",
        "\n",
        "The time complexity of Kruskal's algorithm is O(E log E), where E is the number of edges in the graph. This is because we need to sort the edges by weight, which takes O(E log E) time, and then iterate through them one by one, which takes O(E) time."
      ],
      "metadata": {
        "id": "UVjS6yXLJg-M"
      }
    },
    {
      "cell_type": "code",
      "source": [
        "def find(parent, node):\n",
        "    if parent[node] == node:\n",
        "        return node\n",
        "    return find(parent, parent[node])\n",
        "\n",
        "def union(parent, rank, node1, node2):\n",
        "    root1 = find(parent, node1)\n",
        "    root2 = find(parent, node2)\n",
        "\n",
        "    if rank[root1] < rank[root2]:\n",
        "        parent[root1] = root2\n",
        "    elif rank[root1] > rank[root2]:\n",
        "        parent[root2] = root1\n",
        "    else:\n",
        "        parent[root2] = root1\n",
        "        rank[root1] += 1\n",
        "\n",
        "def kruskal(graph):\n",
        "    mst = []\n",
        "\n",
        "    # Sort edges\n",
        "    edges = []\n",
        "    for node in graph.nodes:\n",
        "        for edge in node.edges:\n",
        "            edges.append((node, edge[0], edge[1]))\n",
        "    edges = sorted(edges, key=lambda x: x[2])\n",
        "\n",
        "    # Initialize disjoint set data structure\n",
        "    parent = {}\n",
        "    rank = {}\n",
        "    for node in graph.nodes:\n",
        "        parent[node] = node\n",
        "        rank[node] = 0\n",
        "\n",
        "    # Iterate through sorted edges and add to MST if it doesn't form a cycle\n",
        "    for edge in edges:\n",
        "        node1, node2, weight = edge\n",
        "        if find(parent, node1) != find(parent, node2):\n",
        "            mst.append(edge)\n",
        "            union(parent, rank, node1, node2)\n",
        "\n",
        "    return mst\n",
        "\n",
        "mst = kruskal(graph)"
      ],
      "metadata": {
        "id": "DDDCuTWAHu97"
      },
      "execution_count": 4,
      "outputs": []
    },
    {
      "cell_type": "markdown",
      "source": [
        "Now the mst variable contains the edges that form the Minimum Spanning Tree. You can use these edges to create an optimized version of the graph or simply display the optimized graph."
      ],
      "metadata": {
        "id": "ARnb-DEfH0qQ"
      }
    },
    {
      "cell_type": "code",
      "source": [
        "for edge in mst:\n",
        "    print(f\"{edge[0].value} -- {edge[1].value} (Weight: {edge[2]})\")"
      ],
      "metadata": {
        "colab": {
          "base_uri": "https://localhost:8080/"
        },
        "id": "QRcohmgIH2Sf",
        "outputId": "d09dd7ad-18e2-4f54-aa8d-c67b05eb040c"
      },
      "execution_count": null,
      "outputs": [
        {
          "output_type": "stream",
          "name": "stdout",
          "text": [
            "x1 -- x2 (Weight: 1)\n",
            "x2 -- x3 (Weight: 2)\n",
            "x4 -- x5 (Weight: 3)\n",
            "x6 -- x7 (Weight: 3)\n",
            "x1 -- x4 (Weight: 4)\n",
            "x4 -- x7 (Weight: 4)\n"
          ]
        }
      ]
    },
    {
      "cell_type": "markdown",
      "source": [
        "Optimized graph:"
      ],
      "metadata": {
        "id": "-bNj4ZT6Imj9"
      }
    },
    {
      "cell_type": "code",
      "source": [
        "#import networkx as nx\n",
        "#import matplotlib.pyplot as plt\n",
        "\n",
        "# create the graph object\n",
        "G = nx.Graph()\n",
        "\n",
        "# add nodes to the graph\n",
        "G.add_nodes_from(['x1', 'x2', 'x3', 'x4', 'x5', 'x6', 'x7'])\n",
        "\n",
        "# add edges to the graph\n",
        "G.add_edge('x1', 'x2', weight=1)\n",
        "G.add_edge('x2', 'x3', weight=2)\n",
        "G.add_edge('x4', 'x5', weight=3)\n",
        "G.add_edge('x6', 'x7', weight=3)\n",
        "G.add_edge('x1', 'x4', weight=4)\n",
        "G.add_edge('x4', 'x7', weight=4)\n",
        "\n",
        "# define positions of nodes for plotting\n",
        "pos = {'x1': (0, 1), 'x2': (1, 1), 'x3': (2, 1),\n",
        "       'x4': (0, 0), 'x5': (1, 0), 'x6': (2, 0), 'x7': (1, -1)}\n",
        "\n",
        "# draw the graph with edge labels\n",
        "nx.draw_networkx(G, pos=pos, with_labels=True, node_color='lightblue', edge_color='grey')\n",
        "labels = nx.get_edge_attributes(G, 'weight')\n",
        "nx.draw_networkx_edge_labels(G, pos=pos, edge_labels=labels)\n",
        "\n",
        "# display the graph\n",
        "plt.axis('off')\n",
        "plt.show()"
      ],
      "metadata": {
        "colab": {
          "base_uri": "https://localhost:8080/",
          "height": 406
        },
        "id": "sAkdsPlyIrgo",
        "outputId": "29cd7d22-9a7b-428e-bdfe-14a3390ba41b"
      },
      "execution_count": 5,
      "outputs": [
        {
          "output_type": "display_data",
          "data": {
            "text/plain": [
              "<Figure size 640x480 with 1 Axes>"
            ],
            "image/png": "[encoded data removed]"
          },
          "metadata": {}
        }
      ]
    }
  ]
}